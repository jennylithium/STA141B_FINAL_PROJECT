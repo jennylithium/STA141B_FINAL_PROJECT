{
 "cells": [
  {
   "cell_type": "code",
   "execution_count": 58,
   "metadata": {},
   "outputs": [],
   "source": [
    "import requests\n",
    "from bs4 import BeautifulSoup as soup\n",
    "from collections import Counter\n",
    "import lxml\n",
    "import pandas as pd\n",
    "\n",
    "import chromedriver_binary\n",
    "from selenium import webdriver\n",
    "from selenium.webdriver.chrome.options import Options\n",
    "import time \n",
    "from time import sleep "
   ]
  },
  {
   "cell_type": "code",
   "execution_count": null,
   "metadata": {},
   "outputs": [],
   "source": [
    "def process_zillset(html):\n",
    "    \"\"\"\n",
    "    This function processes the zillow html for the differnt urls and returns the items of interest\n",
    "    \"\"\"\n",
    "    for home in html:\n",
    "        home.prettify()\n",
    "        home.name, home.attrs, home['class']\n",
    "\n",
    "        #address\n",
    "        try:\n",
    "            zaddress = home.find_all('address')\n",
    "            address = zaddress[0].text.strip()\n",
    "            zill_dict['address'].append(address)\n",
    "        except IndexError:\n",
    "            zill_dict['address'].append('NaN')\n",
    "            \n",
    "        \n",
    "        #listing brokerage and agent \n",
    "        try:\n",
    "            zlisting = home.find_all('p', {'class':'list-card-extra-info'})\n",
    "            listingby = zlisting[0].text.strip()\n",
    "            zill_dict['listingby'].append(listingby)\n",
    "        except IndexError:\n",
    "            zill_dict['listingby'].append('NaN')\n",
    "            \n",
    "        \n",
    "        #price\n",
    "        try:\n",
    "            zprice = home.find_all('div', {'class':'list-card-price'})\n",
    "            price = zprice[0].text.strip()\n",
    "            zill_dict['price'].append(price)\n",
    "        except IndexError:\n",
    "            zill_dict['price'].append('NaN')\n",
    "            \n",
    "        \n",
    "        #beds\n",
    "        try:\n",
    "            zbed = home.find_all('li', {'class':''})\n",
    "            beds = zbed[0].text.strip()\n",
    "            zill_dict['beds'].append(beds)\n",
    "        except IndexError:\n",
    "            zill_dict['beds'].append('NaN')\n",
    "            \n",
    "        \n",
    "        #bathrooms\n",
    "        try:\n",
    "            zbath = home.find_all('li', {'class':''})\n",
    "            baths = zbath[1].text.strip()\n",
    "            zill_dict['baths'].append(baths)\n",
    "        except IndexError:\n",
    "            zill_dict['baths'].append('NaN')\n",
    "            \n",
    "        \n",
    "        #sqft\n",
    "        try:\n",
    "            zsqft = home.find_all('li', {'class':''})\n",
    "            sqft = zsqft[2].text.strip()\n",
    "            zill_dict['sqft'].append(sqft)\n",
    "        except IndexError:\n",
    "            zill_dict['sqft'].append('NaN')\n",
    "            \n",
    "            \n",
    "        #type\n",
    "        try:\n",
    "            ztype = home.find_all('li', {'class':'list-card-statusText'})\n",
    "            types = ztype[0].text.strip()\n",
    "            zill_dict['building_type'].append(types)\n",
    "        except IndexError:\n",
    "            zill_dict['building_type'].append('NaN')\n",
    "            \n",
    "    return zill_dict\n",
    "    "
   ]
  },
  {
   "cell_type": "code",
   "execution_count": 59,
   "metadata": {},
   "outputs": [],
   "source": [
    "# make _urls returns a list of Zillow urls, incrementing the page number until it reaches the max_page \n",
    "def make_urls(max_page):\n",
    "    url_list =[]\n",
    "    for pageNumber in range(1,max_page+1):\n",
    "        #url = 'https://www.zillow.com/san-francisco-ca/' + str(pageNumber) + '_p?'\n",
    "        url = 'https://www.zillow.com/san-francisco-ca/rentals/'+ str(pageNumber) + '_p?'\n",
    "        url_list += [url]\n",
    "    return url_list "
   ]
  },
  {
   "cell_type": "code",
   "execution_count": 89,
   "metadata": {},
   "outputs": [
    {
     "name": "stdout",
     "output_type": "stream",
     "text": [
      "['https://www.zillow.com/san-francisco-ca/rentals/1_p?', 'https://www.zillow.com/san-francisco-ca/rentals/2_p?']\n"
     ]
    }
   ],
   "source": [
    "# we give the max_page and call make_urls to make a list of urls that we will use \n",
    "max_page = 2\n",
    "zillow_urls = make_urls(max_page)\n",
    "print(zillow_urls)"
   ]
  },
  {
   "cell_type": "code",
   "execution_count": null,
   "metadata": {
    "scrolled": true
   },
   "outputs": [],
   "source": [
    "zill_dict = {'address':[], 'listingby':[], 'price':[],'beds':[], 'baths':[],'sqft':[], 'building_type':[], 'price/sqft':[]}\n",
    "for url in zillow_urls:\n",
    "\n",
    "    driver = webdriver.Chrome()\n",
    "    page = driver.get(url)\n",
    "    time.sleep(20)\n",
    "    zillhtml= driver.page_source\n",
    "\n",
    "    #making into soup object\n",
    "    zill = soup(zillhtml,'lxml') \n",
    "    zill_content = zill.find_all('div', attrs ={'class':'list-card-info'})\n",
    "    print(url)\n",
    "    zill_count = 1\n",
    "    for zills in zill_content:\n",
    "        zill_count+=1\n",
    "    dict=process_zillset(zill_content)\n",
    "    df = pd.DataFrame.from_dict(dict, orient='index').transpose()"
   ]
  },
  {
   "cell_type": "code",
   "execution_count": 230,
   "metadata": {},
   "outputs": [
    {
     "data": {
      "text/plain": [
       "(800, 7)"
      ]
     },
     "execution_count": 230,
     "metadata": {},
     "output_type": "execute_result"
    }
   ],
   "source": [
    "zillow_fs = pd.read_csv(\"ZillowData.csv\", index_col=[0])\n",
    "\n",
    "zillow_fs.shape"
   ]
  },
  {
   "cell_type": "code",
   "execution_count": 196,
   "metadata": {},
   "outputs": [],
   "source": [
    "# removing unwanted parts in column values\n",
    "zillow_fs['sqft'] = zillow_fs['sqft'].str.rstrip('sqft')\n",
    "zillow_fs['sqft'] = zillow_fs['sqft'].str.replace(',', '')\n",
    "zillow_fs['sqft'] = zillow_fs['sqft'].str.replace('--', '0')\n",
    "zillow_fs['baths']= zillow_fs['baths'].str.rstrip('ba')\n",
    "zillow_fs['beds'] = zillow_fs['beds'].str.rstrip('bds')\n",
    "zillow_fs['price'] = zillow_fs['price'].str.replace('$', '')\n",
    "zillow_fs['price'] = zillow_fs['price'].str.replace(',', '')\n",
    "zillow_fs['price'] = zillow_fs['price'].str.rstrip('+')"
   ]
  },
  {
   "cell_type": "code",
   "execution_count": 197,
   "metadata": {},
   "outputs": [],
   "source": [
    "# splitting up string values in columns\n",
    "zillow_fs['zip']= zillow_fs['address'].str.split().str[-1]\n",
    "zillow_fs['address'] = zillow_fs['address'].str.split(',',expand =True)[0]\n",
    "zillow_fs['agent'] = zillow_fs['listingby'].str.split(',', expand=True)[1]\n",
    "zillow_fs['brokerage'] = zillow_fs['listingby'].str.split(',', expand=True)[0]\n",
    "zillow_fs = zillow_fs.drop(columns =['listingby'])"
   ]
  },
  {
   "cell_type": "code",
   "execution_count": 200,
   "metadata": {
    "scrolled": true
   },
   "outputs": [],
   "source": [
    "# dividing price and sqft column to create price per sqft\n",
    "zillow_fs=zillow_fs.fillna(0)\n",
    "zillow_fs[['price', 'sqft']] = zillow_fs[['price', 'sqft']].apply(pd.to_numeric)\n",
    "zillow_fs['price/sqft'] = zillow_fs['price'].astype(int) / zillow_fs['sqft'].astype(int)"
   ]
  },
  {
   "cell_type": "code",
   "execution_count": 227,
   "metadata": {},
   "outputs": [
    {
     "data": {
      "text/html": [
       "<div>\n",
       "<style scoped>\n",
       "    .dataframe tbody tr th:only-of-type {\n",
       "        vertical-align: middle;\n",
       "    }\n",
       "\n",
       "    .dataframe tbody tr th {\n",
       "        vertical-align: top;\n",
       "    }\n",
       "\n",
       "    .dataframe thead th {\n",
       "        text-align: right;\n",
       "    }\n",
       "</style>\n",
       "<table border=\"1\" class=\"dataframe\">\n",
       "  <thead>\n",
       "    <tr style=\"text-align: right;\">\n",
       "      <th></th>\n",
       "      <th>address</th>\n",
       "      <th>zip</th>\n",
       "      <th>building_type</th>\n",
       "      <th>price</th>\n",
       "      <th>beds</th>\n",
       "      <th>baths</th>\n",
       "      <th>sqft</th>\n",
       "      <th>price/sqft</th>\n",
       "      <th>agent</th>\n",
       "      <th>brokerage</th>\n",
       "    </tr>\n",
       "  </thead>\n",
       "  <tbody>\n",
       "    <tr>\n",
       "      <th>0</th>\n",
       "      <td>710 London St</td>\n",
       "      <td>94112</td>\n",
       "      <td>- House for sale</td>\n",
       "      <td>1498000</td>\n",
       "      <td>4</td>\n",
       "      <td>3</td>\n",
       "      <td>2047</td>\n",
       "      <td>731.802638</td>\n",
       "      <td>Darin J. Holwitz</td>\n",
       "      <td>COMPASS</td>\n",
       "    </tr>\n",
       "    <tr>\n",
       "      <th>1</th>\n",
       "      <td>655 27th St</td>\n",
       "      <td>94131</td>\n",
       "      <td>- House for sale</td>\n",
       "      <td>2195000</td>\n",
       "      <td>3</td>\n",
       "      <td>3</td>\n",
       "      <td>1791</td>\n",
       "      <td>1225.572306</td>\n",
       "      <td>Dale T. Boutiette</td>\n",
       "      <td>COMPASS SF</td>\n",
       "    </tr>\n",
       "    <tr>\n",
       "      <th>2</th>\n",
       "      <td>270 Sadowa St</td>\n",
       "      <td>94112</td>\n",
       "      <td>- House for sale</td>\n",
       "      <td>1049000</td>\n",
       "      <td>3</td>\n",
       "      <td>2</td>\n",
       "      <td>1264</td>\n",
       "      <td>829.905063</td>\n",
       "      <td>Cynthia M. Pagan</td>\n",
       "      <td>PACIFIC EDGE</td>\n",
       "    </tr>\n",
       "    <tr>\n",
       "      <th>3</th>\n",
       "      <td>437 Valley St</td>\n",
       "      <td>94131</td>\n",
       "      <td>- House for sale</td>\n",
       "      <td>2000000</td>\n",
       "      <td>3</td>\n",
       "      <td>2</td>\n",
       "      <td>1949</td>\n",
       "      <td>1026.167265</td>\n",
       "      <td>Allison Fortini Crawford</td>\n",
       "      <td>SOTHEBY'S INTERNATIONAL REALTY</td>\n",
       "    </tr>\n",
       "    <tr>\n",
       "      <th>4</th>\n",
       "      <td>585 Rockdale Dr</td>\n",
       "      <td>94127</td>\n",
       "      <td>- House for sale</td>\n",
       "      <td>1295000</td>\n",
       "      <td>2</td>\n",
       "      <td>1</td>\n",
       "      <td>1152</td>\n",
       "      <td>1124.131944</td>\n",
       "      <td>Edward O'Connell</td>\n",
       "      <td>CORCORAN GLOBAL LIVING</td>\n",
       "    </tr>\n",
       "  </tbody>\n",
       "</table>\n",
       "</div>"
      ],
      "text/plain": [
       "           address    zip     building_type    price beds baths  sqft  \\\n",
       "0    710 London St  94112  - House for sale  1498000   4     3   2047   \n",
       "1      655 27th St  94131  - House for sale  2195000   3     3   1791   \n",
       "2    270 Sadowa St  94112  - House for sale  1049000   3     2   1264   \n",
       "3    437 Valley St  94131  - House for sale  2000000   3     2   1949   \n",
       "4  585 Rockdale Dr  94127  - House for sale  1295000   2     1   1152   \n",
       "\n",
       "    price/sqft                      agent                       brokerage  \n",
       "0   731.802638           Darin J. Holwitz                         COMPASS  \n",
       "1  1225.572306          Dale T. Boutiette                      COMPASS SF  \n",
       "2   829.905063           Cynthia M. Pagan                    PACIFIC EDGE  \n",
       "3  1026.167265   Allison Fortini Crawford  SOTHEBY'S INTERNATIONAL REALTY  \n",
       "4  1124.131944           Edward O'Connell          CORCORAN GLOBAL LIVING  "
      ]
     },
     "execution_count": 227,
     "metadata": {},
     "output_type": "execute_result"
    }
   ],
   "source": [
    "zillow_fs = zillow_fs[['address', 'zip', 'building_type', 'price', 'beds', 'baths', 'sqft', 'price/sqft', 'agent', 'brokerage']]\n",
    "zillow_fs.head()"
   ]
  },
  {
   "cell_type": "code",
   "execution_count": 226,
   "metadata": {},
   "outputs": [
    {
     "data": {
      "text/plain": [
       "COMPASS                           156\n",
       "0                                 111\n",
       "VANGUARD PROPERTIES                61\n",
       "SOTHEBY'S INTERNATIONAL REALTY     58\n",
       "COMPASS SF                         48\n",
       "                                 ... \n",
       "HELM REAL ESTATE                    1\n",
       "JENNY HE REALTY ASSOCIATES          1\n",
       "SHANNON MOLLOY                      1\n",
       "WEST COAST PROPERTY MGT. CO.        1\n",
       "PINNACLE PROPERTIES                 1\n",
       "Name: brokerage, Length: 147, dtype: int64"
      ]
     },
     "execution_count": 226,
     "metadata": {},
     "output_type": "execute_result"
    }
   ],
   "source": [
    "zillow_fs['brokerage'].value_counts()"
   ]
  },
  {
   "cell_type": "code",
   "execution_count": 219,
   "metadata": {},
   "outputs": [],
   "source": [
    "zillow_fs.to_csv('for_sale.csv')"
   ]
  },
  {
   "cell_type": "code",
   "execution_count": 221,
   "metadata": {},
   "outputs": [
    {
     "data": {
      "text/html": [
       "<div>\n",
       "<style scoped>\n",
       "    .dataframe tbody tr th:only-of-type {\n",
       "        vertical-align: middle;\n",
       "    }\n",
       "\n",
       "    .dataframe tbody tr th {\n",
       "        vertical-align: top;\n",
       "    }\n",
       "\n",
       "    .dataframe thead th {\n",
       "        text-align: right;\n",
       "    }\n",
       "</style>\n",
       "<table border=\"1\" class=\"dataframe\">\n",
       "  <thead>\n",
       "    <tr style=\"text-align: right;\">\n",
       "      <th></th>\n",
       "      <th>address</th>\n",
       "      <th>listingby</th>\n",
       "      <th>price</th>\n",
       "      <th>beds</th>\n",
       "      <th>baths</th>\n",
       "      <th>sqft</th>\n",
       "      <th>building_type</th>\n",
       "      <th>price/sqft</th>\n",
       "    </tr>\n",
       "  </thead>\n",
       "  <tbody>\n",
       "    <tr>\n",
       "      <th>0</th>\n",
       "      <td>956 Valencia St. | 956 Valencia St, San Franci...</td>\n",
       "      <td>NaN</td>\n",
       "      <td>$4,595+ 4 bds</td>\n",
       "      <td>NaN</td>\n",
       "      <td>NaN</td>\n",
       "      <td>NaN</td>\n",
       "      <td>NaN</td>\n",
       "      <td>NaN</td>\n",
       "    </tr>\n",
       "    <tr>\n",
       "      <th>1</th>\n",
       "      <td>333 Main St UNIT 4J, San Francisco, CA 94105</td>\n",
       "      <td>NaN</td>\n",
       "      <td>$3,650/mo</td>\n",
       "      <td>1 bd</td>\n",
       "      <td>1 ba</td>\n",
       "      <td>815 sqft</td>\n",
       "      <td>- Apartment for rent</td>\n",
       "      <td>NaN</td>\n",
       "    </tr>\n",
       "    <tr>\n",
       "      <th>2</th>\n",
       "      <td>1271 10th Ave, San Francisco, CA 94122</td>\n",
       "      <td>NaN</td>\n",
       "      <td>$4,900/mo</td>\n",
       "      <td>3 bds</td>\n",
       "      <td>1.5 ba</td>\n",
       "      <td>1,675 sqft</td>\n",
       "      <td>- Apartment for rent</td>\n",
       "      <td>NaN</td>\n",
       "    </tr>\n",
       "    <tr>\n",
       "      <th>3</th>\n",
       "      <td>2027 Market St APT 9, San Francisco, CA 94114</td>\n",
       "      <td>NaN</td>\n",
       "      <td>$4,200/mo</td>\n",
       "      <td>2 bds</td>\n",
       "      <td>2 ba</td>\n",
       "      <td>1,032 sqft</td>\n",
       "      <td>- Condo for rent</td>\n",
       "      <td>NaN</td>\n",
       "    </tr>\n",
       "    <tr>\n",
       "      <th>4</th>\n",
       "      <td>161 Broderick St #3, San Francisco, CA 94117</td>\n",
       "      <td>NaN</td>\n",
       "      <td>$2,795/mo</td>\n",
       "      <td>1 bd</td>\n",
       "      <td>1 ba</td>\n",
       "      <td>910 sqft</td>\n",
       "      <td>- Apartment for rent</td>\n",
       "      <td>NaN</td>\n",
       "    </tr>\n",
       "  </tbody>\n",
       "</table>\n",
       "</div>"
      ],
      "text/plain": [
       "                                             address  listingby  \\\n",
       "0  956 Valencia St. | 956 Valencia St, San Franci...        NaN   \n",
       "1       333 Main St UNIT 4J, San Francisco, CA 94105        NaN   \n",
       "2             1271 10th Ave, San Francisco, CA 94122        NaN   \n",
       "3      2027 Market St APT 9, San Francisco, CA 94114        NaN   \n",
       "4       161 Broderick St #3, San Francisco, CA 94117        NaN   \n",
       "\n",
       "           price   beds   baths        sqft         building_type  price/sqft  \n",
       "0  $4,595+ 4 bds    NaN     NaN         NaN                   NaN         NaN  \n",
       "1      $3,650/mo   1 bd    1 ba    815 sqft  - Apartment for rent         NaN  \n",
       "2      $4,900/mo  3 bds  1.5 ba  1,675 sqft  - Apartment for rent         NaN  \n",
       "3      $4,200/mo  2 bds    2 ba  1,032 sqft      - Condo for rent         NaN  \n",
       "4      $2,795/mo   1 bd    1 ba    910 sqft  - Apartment for rent         NaN  "
      ]
     },
     "execution_count": 221,
     "metadata": {},
     "output_type": "execute_result"
    }
   ],
   "source": [
    "zillow_fr = pd.read_csv(\"ZillowRent.csv\", index_col=[0])\n",
    "zillow_fr.head()"
   ]
  },
  {
   "cell_type": "code",
   "execution_count": 225,
   "metadata": {},
   "outputs": [],
   "source": [
    "#zillow_fr['brokerage'].value_counts()"
   ]
  },
  {
   "cell_type": "code",
   "execution_count": 216,
   "metadata": {},
   "outputs": [
    {
     "ename": "TypeError",
     "evalue": "'NoneType' object is not subscriptable",
     "output_type": "error",
     "traceback": [
      "\u001b[0;31m---------------------------------------------------------------------------\u001b[0m",
      "\u001b[0;31mTypeError\u001b[0m                                 Traceback (most recent call last)",
      "\u001b[0;32m<ipython-input-216-884aa7e6b846>\u001b[0m in \u001b[0;36m<module>\u001b[0;34m\u001b[0m\n\u001b[1;32m      2\u001b[0m \u001b[0mzillow_fr\u001b[0m \u001b[0;34m=\u001b[0m \u001b[0mzillow_fr\u001b[0m\u001b[0;34m.\u001b[0m\u001b[0mdrop\u001b[0m\u001b[0;34m(\u001b[0m\u001b[0mcolumns\u001b[0m \u001b[0;34m=\u001b[0m\u001b[0;34m[\u001b[0m\u001b[0;34m'listingby'\u001b[0m\u001b[0;34m]\u001b[0m\u001b[0;34m)\u001b[0m\u001b[0;34m\u001b[0m\u001b[0;34m\u001b[0m\u001b[0m\n\u001b[1;32m      3\u001b[0m \u001b[0mzillow_fr\u001b[0m \u001b[0;34m=\u001b[0m \u001b[0mzillow_fr\u001b[0m\u001b[0;34m.\u001b[0m\u001b[0mrename\u001b[0m\u001b[0;34m(\u001b[0m\u001b[0mcolumns\u001b[0m\u001b[0;34m=\u001b[0m\u001b[0;34m{\u001b[0m\u001b[0;34m'price'\u001b[0m\u001b[0;34m:\u001b[0m\u001b[0;34m'rent/month'\u001b[0m\u001b[0;34m}\u001b[0m\u001b[0;34m,\u001b[0m \u001b[0minplace\u001b[0m\u001b[0;34m=\u001b[0m\u001b[0;32mTrue\u001b[0m\u001b[0;34m)\u001b[0m\u001b[0;34m\u001b[0m\u001b[0;34m\u001b[0m\u001b[0m\n\u001b[0;32m----> 4\u001b[0;31m \u001b[0mzillow_fr\u001b[0m\u001b[0;34m[\u001b[0m\u001b[0;34m'price'\u001b[0m\u001b[0;34m]\u001b[0m \u001b[0;34m=\u001b[0m \u001b[0mzillow_fr\u001b[0m\u001b[0;34m[\u001b[0m\u001b[0;34m'price'\u001b[0m\u001b[0;34m]\u001b[0m\u001b[0;34m.\u001b[0m\u001b[0mfillna\u001b[0m\u001b[0;34m(\u001b[0m\u001b[0;36m0\u001b[0m\u001b[0;34m)\u001b[0m\u001b[0;34m\u001b[0m\u001b[0;34m\u001b[0m\u001b[0m\n\u001b[0m\u001b[1;32m      5\u001b[0m \u001b[0mzillow_fr\u001b[0m\u001b[0;34m[\u001b[0m\u001b[0;34m'price'\u001b[0m\u001b[0;34m]\u001b[0m \u001b[0;34m=\u001b[0m \u001b[0mzillow_fr\u001b[0m\u001b[0;34m[\u001b[0m\u001b[0;34m'price'\u001b[0m\u001b[0;34m]\u001b[0m\u001b[0;34m.\u001b[0m\u001b[0mstr\u001b[0m\u001b[0;34m.\u001b[0m\u001b[0mreplace\u001b[0m\u001b[0;34m(\u001b[0m\u001b[0;34m'$'\u001b[0m\u001b[0;34m,\u001b[0m \u001b[0;34m''\u001b[0m\u001b[0;34m)\u001b[0m\u001b[0;34m\u001b[0m\u001b[0;34m\u001b[0m\u001b[0m\n\u001b[1;32m      6\u001b[0m \u001b[0mzillow_fr\u001b[0m\u001b[0;34m[\u001b[0m\u001b[0;34m'price'\u001b[0m\u001b[0;34m]\u001b[0m \u001b[0;34m=\u001b[0m \u001b[0mzillow_fr\u001b[0m\u001b[0;34m[\u001b[0m\u001b[0;34m'price'\u001b[0m\u001b[0;34m]\u001b[0m\u001b[0;34m.\u001b[0m\u001b[0mstr\u001b[0m\u001b[0;34m.\u001b[0m\u001b[0mreplace\u001b[0m\u001b[0;34m(\u001b[0m\u001b[0;34m','\u001b[0m\u001b[0;34m,\u001b[0m \u001b[0;34m''\u001b[0m\u001b[0;34m)\u001b[0m\u001b[0;34m\u001b[0m\u001b[0;34m\u001b[0m\u001b[0m\n",
      "\u001b[0;31mTypeError\u001b[0m: 'NoneType' object is not subscriptable"
     ]
    }
   ],
   "source": [
    "# removing unwanted string parts in column\n",
    "zillow_fr = zillow_fr.drop(columns =['listingby'])\n",
    "zillow_fr = zillow_fr.rename(columns={'price':'rent/month'}, inplace=True)\n",
    "zillow_fr['price'] = zillow_fr['price'].str.replace('$', '')\n",
    "zillow_fr['price'] = zillow_fr['price'].str.replace(',', '')\n",
    "zillow_fr['price'] = zillow_fr['price'].str.replace('/mo', '')\n",
    "zillow_fr['beds'] = zillow_fr['beds'].str.rstrip('bds')\n",
    "zillow_fr['beds'] = zillow_fr['beds'].str.rstrip('bd')\n",
    "zillow_fr['baths'] = zillow_fr['baths'].str.rstrip('ba')\n",
    "zillow_fr['sqft'] = zillow_fr['sqft'].str.rstrip('sqft')\n",
    "zillow_fr['sqft'] = zillow_fr['sqft'].str.replace(',', '')\n",
    "zillow_fr"
   ]
  },
  {
   "cell_type": "code",
   "execution_count": null,
   "metadata": {},
   "outputs": [],
   "source": [
    "zi"
   ]
  }
 ],
 "metadata": {
  "kernelspec": {
   "display_name": "Python 3",
   "language": "python",
   "name": "python3"
  },
  "language_info": {
   "codemirror_mode": {
    "name": "ipython",
    "version": 3
   },
   "file_extension": ".py",
   "mimetype": "text/x-python",
   "name": "python",
   "nbconvert_exporter": "python",
   "pygments_lexer": "ipython3",
   "version": "3.8.5"
  }
 },
 "nbformat": 4,
 "nbformat_minor": 4
}
